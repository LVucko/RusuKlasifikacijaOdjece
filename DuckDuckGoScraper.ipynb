{
 "cells": [
  {
   "cell_type": "code",
   "execution_count": null,
   "id": "4af19735",
   "metadata": {},
   "outputs": [],
   "source": [
    "!pip install -q jmd_imagescraper"
   ]
  },
  {
   "cell_type": "code",
   "execution_count": null,
   "id": "77b319b2",
   "metadata": {},
   "outputs": [
    {
     "name": "stdout",
     "output_type": "stream",
     "text": [
      "Duckduckgo search: Blouse\n",
      "Hit request throttle, sleeping and retrying\n",
      "Hit request throttle, sleeping and retrying\n",
      "Hit request throttle, sleeping and retrying\n",
      "Hit request throttle, sleeping and retrying\n",
      "Hit request throttle, sleeping and retrying\n",
      "Hit request throttle, sleeping and retrying\n",
      "Hit request throttle, sleeping and retrying\n",
      "Hit request throttle, sleeping and retrying\n",
      "Hit request throttle, sleeping and retrying\n",
      "Hit request throttle, sleeping and retrying\n",
      "Hit request throttle, sleeping and retrying\n",
      "Hit request throttle, sleeping and retrying\n",
      "Hit request throttle, sleeping and retrying\n",
      "Hit request throttle, sleeping and retrying\n",
      "Hit request throttle, sleeping and retrying\n",
      "Hit request throttle, sleeping and retrying\n",
      "Hit request throttle, sleeping and retrying\n",
      "Hit request throttle, sleeping and retrying\n",
      "Hit request throttle, sleeping and retrying\n",
      "Hit request throttle, sleeping and retrying\n",
      "Hit request throttle, sleeping and retrying\n",
      "Hit request throttle, sleeping and retrying\n",
      "Hit request throttle, sleeping and retrying\n",
      "Hit request throttle, sleeping and retrying\n",
      "Hit request throttle, sleeping and retrying\n",
      "Hit request throttle, sleeping and retrying\n",
      "Hit request throttle, sleeping and retrying\n",
      "Hit request throttle, sleeping and retrying\n",
      "Hit request throttle, sleeping and retrying\n",
      "Hit request throttle, sleeping and retrying\n",
      "Hit request throttle, sleeping and retrying\n",
      "Hit request throttle, sleeping and retrying\n",
      "Hit request throttle, sleeping and retrying\n",
      "Hit request throttle, sleeping and retrying\n",
      "Hit request throttle, sleeping and retrying\n",
      "Hit request throttle, sleeping and retrying\n",
      "Hit request throttle, sleeping and retrying\n",
      "Hit request throttle, sleeping and retrying\n",
      "Hit request throttle, sleeping and retrying\n",
      "Hit request throttle, sleeping and retrying\n",
      "Hit request throttle, sleeping and retrying\n",
      "Hit request throttle, sleeping and retrying\n",
      "Hit request throttle, sleeping and retrying\n",
      "Hit request throttle, sleeping and retrying\n",
      "Hit request throttle, sleeping and retrying\n",
      "Hit request throttle, sleeping and retrying\n",
      "Hit request throttle, sleeping and retrying\n",
      "Hit request throttle, sleeping and retrying\n",
      "Hit request throttle, sleeping and retrying\n",
      "Hit request throttle, sleeping and retrying\n",
      "Hit request throttle, sleeping and retrying\n",
      "Hit request throttle, sleeping and retrying\n",
      "Hit request throttle, sleeping and retrying\n",
      "Hit request throttle, sleeping and retrying\n",
      "Hit request throttle, sleeping and retrying\n",
      "Hit request throttle, sleeping and retrying\n",
      "Hit request throttle, sleeping and retrying\n",
      "Hit request throttle, sleeping and retrying\n",
      "Hit request throttle, sleeping and retrying\n",
      "Hit request throttle, sleeping and retrying\n",
      "Hit request throttle, sleeping and retrying\n",
      "Hit request throttle, sleeping and retrying\n",
      "Hit request throttle, sleeping and retrying\n",
      "Hit request throttle, sleeping and retrying\n",
      "Hit request throttle, sleeping and retrying\n",
      "Hit request throttle, sleeping and retrying\n",
      "Hit request throttle, sleeping and retrying\n"
     ]
    }
   ],
   "source": [
    "from pathlib import Path\n",
    "root = Path().cwd()/\"images\"\n",
    "\n",
    "from jmd_imagescraper.core import * # dont't worry, it's designed to work with import *\n",
    "\n",
    "duckduckgo_search(root, \"Blouse\", \"Blouse\", max_results=10)\n"
   ]
  },
  {
   "cell_type": "code",
   "execution_count": null,
   "id": "6e95015e",
   "metadata": {},
   "outputs": [],
   "source": []
  }
 ],
 "metadata": {
  "kernelspec": {
   "display_name": "Python 3 (ipykernel)",
   "language": "python",
   "name": "python3"
  },
  "language_info": {
   "codemirror_mode": {
    "name": "ipython",
    "version": 3
   },
   "file_extension": ".py",
   "mimetype": "text/x-python",
   "name": "python",
   "nbconvert_exporter": "python",
   "pygments_lexer": "ipython3",
   "version": "3.10.9"
  }
 },
 "nbformat": 4,
 "nbformat_minor": 5
}
