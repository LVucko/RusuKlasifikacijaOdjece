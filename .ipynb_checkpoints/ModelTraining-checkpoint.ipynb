{
 "cells": [
  {
   "cell_type": "code",
   "execution_count": 194,
   "id": "15a3a138",
   "metadata": {},
   "outputs": [],
   "source": [
    "import os\n",
    "import numpy as np\n",
    "from PIL import Image\n",
    "from keras.models import Sequential\n",
    "from keras.layers import Dense, Conv2D, MaxPooling2D, Flatten\n",
    "from keras.preprocessing.image import ImageDataGenerator\n",
    "from keras.utils import to_categorical\n",
    "from sklearn.model_selection import train_test_split\n",
    "from keras.preprocessing.image import ImageDataGenerator\n",
    "from keras.models import load_model"
   ]
  },
  {
   "cell_type": "code",
   "execution_count": 195,
   "id": "29fee96d",
   "metadata": {},
   "outputs": [],
   "source": [
    "dataset_folder = \"Final_Data_V2\"\n",
    "categories = os.listdir(dataset_folder)\n",
    "num_classes = len(categories)\n",
    "X_data = []\n",
    "y_data = []"
   ]
  },
  {
   "cell_type": "code",
   "execution_count": 196,
   "id": "cf786267",
   "metadata": {},
   "outputs": [],
   "source": [
    "for i, category in enumerate(categories):\n",
    "    folder_path = os.path.join(dataset_folder, category)\n",
    "    images = []\n",
    "    for filename in os.listdir(folder_path):\n",
    "        img = Image.open(os.path.join(folder_path, filename))\n",
    "        if img is not None:\n",
    "            img = img.resize((100, 100))\n",
    "            if img.mode == 'RGBA':\n",
    "                img = img.convert('RGB')\n",
    "            img_array = np.array(img)\n",
    "            if len(img_array.shape) == 3 and img_array.shape[2] == 3:\n",
    "                images.append(img_array)\n",
    "    labels = [i] * len(images)\n",
    "    X_data.extend(images)\n",
    "    y_data.extend(labels)"
   ]
  },
  {
   "cell_type": "code",
   "execution_count": 197,
   "id": "00690edb",
   "metadata": {},
   "outputs": [],
   "source": [
    "X_data = np.array(X_data)\n",
    "y_data = np.array(y_data)\n",
    "X_data = X_data.astype('float32') / 255.0\n",
    "y_data = to_categorical(y_data, num_classes)\n",
    "X_train, X_test, y_train, y_test = train_test_split(X_data, y_data, test_size=0.2, random_state=100)"
   ]
  },
  {
   "cell_type": "code",
   "execution_count": 198,
   "id": "4fa0e8e3",
   "metadata": {},
   "outputs": [],
   "source": [
    "datagen = ImageDataGenerator(\n",
    "    rotation_range=20,\n",
    "    width_shift_range=0.1,\n",
    "    height_shift_range=0.1,\n",
    "    horizontal_flip=True,\n",
    "    validation_split=0.2\n",
    ")"
   ]
  },
  {
   "cell_type": "code",
   "execution_count": 199,
   "id": "efcfc323",
   "metadata": {},
   "outputs": [],
   "source": [
    "model = Sequential()\n",
    "\n",
    "model.add(Conv2D(32, (3, 3), activation='relu', input_shape=(100, 100, 3)))\n",
    "model.add(MaxPooling2D((2, 2)))\n",
    "model.add(Conv2D(64, (3, 3), activation='relu'))\n",
    "model.add(MaxPooling2D((2, 2)))\n",
    "\n",
    "model.add(Flatten())\n",
    "model.add(Dense(64, activation='relu'))\n",
    "model.add(Dense(num_classes, activation='softmax'))\n",
    "\n",
    "model.compile(optimizer='adam', loss='categorical_crossentropy', metrics=['accuracy'])"
   ]
  },
  {
   "cell_type": "code",
   "execution_count": 200,
   "id": "21b49c16",
   "metadata": {
    "scrolled": true
   },
   "outputs": [],
   "source": [
    "batch_size = 3\n",
    "epochs = 30\n",
    "\n",
    "train_generator = datagen.flow(X_train, y_train, batch_size=batch_size, subset='training')\n",
    "validation_generator = datagen.flow(X_train, y_train, batch_size=batch_size, subset='validation')"
   ]
  },
  {
   "cell_type": "code",
   "execution_count": 201,
   "id": "6f09ef95",
   "metadata": {},
   "outputs": [
    {
     "name": "stdout",
     "output_type": "stream",
     "text": [
      "Epoch 1/30\n",
      "1144/1144 [==============================] - 14s 12ms/step - loss: 2.4544 - accuracy: 0.2005 - val_loss: 2.3920 - val_accuracy: 0.2462\n",
      "Epoch 2/30\n",
      "1144/1144 [==============================] - 14s 12ms/step - loss: 2.2874 - accuracy: 0.2686 - val_loss: 2.2089 - val_accuracy: 0.2835\n",
      "Epoch 3/30\n",
      "1144/1144 [==============================] - 13s 12ms/step - loss: 2.1501 - accuracy: 0.3237 - val_loss: 2.0744 - val_accuracy: 0.3652\n",
      "Epoch 4/30\n",
      "1144/1144 [==============================] - 13s 11ms/step - loss: 2.0293 - accuracy: 0.3680 - val_loss: 2.0672 - val_accuracy: 0.3524\n",
      "Epoch 5/30\n",
      "1144/1144 [==============================] - 13s 11ms/step - loss: 1.9285 - accuracy: 0.4062 - val_loss: 2.0563 - val_accuracy: 0.3722\n",
      "Epoch 6/30\n",
      "1144/1144 [==============================] - 13s 11ms/step - loss: 1.8903 - accuracy: 0.4167 - val_loss: 1.8926 - val_accuracy: 0.4306\n",
      "Epoch 7/30\n",
      "1144/1144 [==============================] - 13s 12ms/step - loss: 1.8323 - accuracy: 0.4307 - val_loss: 1.8798 - val_accuracy: 0.4352\n",
      "Epoch 8/30\n",
      "1144/1144 [==============================] - 13s 11ms/step - loss: 1.8039 - accuracy: 0.4464 - val_loss: 1.8450 - val_accuracy: 0.4481\n",
      "Epoch 9/30\n",
      "1144/1144 [==============================] - 13s 12ms/step - loss: 1.7819 - accuracy: 0.4403 - val_loss: 1.8378 - val_accuracy: 0.4504\n",
      "Epoch 10/30\n",
      "1144/1144 [==============================] - 13s 11ms/step - loss: 1.7576 - accuracy: 0.4612 - val_loss: 1.8956 - val_accuracy: 0.4422\n",
      "Epoch 11/30\n",
      "1144/1144 [==============================] - 14s 12ms/step - loss: 1.7393 - accuracy: 0.4583 - val_loss: 1.7773 - val_accuracy: 0.4609\n",
      "Epoch 12/30\n",
      "1144/1144 [==============================] - 13s 11ms/step - loss: 1.7094 - accuracy: 0.4781 - val_loss: 1.7222 - val_accuracy: 0.4889\n",
      "Epoch 13/30\n",
      "1144/1144 [==============================] - 13s 11ms/step - loss: 1.6703 - accuracy: 0.4828 - val_loss: 1.7749 - val_accuracy: 0.4702\n",
      "Epoch 14/30\n",
      "1144/1144 [==============================] - 13s 12ms/step - loss: 1.6600 - accuracy: 0.4802 - val_loss: 1.7542 - val_accuracy: 0.4761\n",
      "Epoch 15/30\n",
      "1144/1144 [==============================] - 13s 12ms/step - loss: 1.6441 - accuracy: 0.4916 - val_loss: 1.8315 - val_accuracy: 0.4702\n",
      "Epoch 16/30\n",
      "1144/1144 [==============================] - 13s 12ms/step - loss: 1.6336 - accuracy: 0.4962 - val_loss: 1.7749 - val_accuracy: 0.4457\n",
      "Epoch 17/30\n",
      "1144/1144 [==============================] - 13s 12ms/step - loss: 1.5979 - accuracy: 0.5012 - val_loss: 1.7384 - val_accuracy: 0.4749\n",
      "Epoch 18/30\n",
      "1144/1144 [==============================] - 14s 12ms/step - loss: 1.5668 - accuracy: 0.5189 - val_loss: 1.6818 - val_accuracy: 0.4971\n",
      "Epoch 19/30\n",
      "1144/1144 [==============================] - 13s 12ms/step - loss: 1.5666 - accuracy: 0.5219 - val_loss: 1.6446 - val_accuracy: 0.5239\n",
      "Epoch 20/30\n",
      "1144/1144 [==============================] - 13s 12ms/step - loss: 1.5438 - accuracy: 0.5236 - val_loss: 1.6793 - val_accuracy: 0.5158\n",
      "Epoch 21/30\n",
      "1144/1144 [==============================] - 13s 11ms/step - loss: 1.5070 - accuracy: 0.5253 - val_loss: 2.1622 - val_accuracy: 0.3862\n",
      "Epoch 22/30\n",
      "1144/1144 [==============================] - 13s 12ms/step - loss: 1.5193 - accuracy: 0.5358 - val_loss: 1.7058 - val_accuracy: 0.4877\n",
      "Epoch 23/30\n",
      "1144/1144 [==============================] - 13s 12ms/step - loss: 1.5034 - accuracy: 0.5350 - val_loss: 1.6318 - val_accuracy: 0.5228\n",
      "Epoch 24/30\n",
      "1144/1144 [==============================] - 14s 12ms/step - loss: 1.4739 - accuracy: 0.5402 - val_loss: 1.6047 - val_accuracy: 0.5204\n",
      "Epoch 25/30\n",
      "1144/1144 [==============================] - 14s 12ms/step - loss: 1.4865 - accuracy: 0.5396 - val_loss: 1.6176 - val_accuracy: 0.5099\n",
      "Epoch 26/30\n",
      "1144/1144 [==============================] - 13s 11ms/step - loss: 1.4629 - accuracy: 0.5463 - val_loss: 1.5887 - val_accuracy: 0.5344\n",
      "Epoch 27/30\n",
      "1144/1144 [==============================] - 13s 11ms/step - loss: 1.4670 - accuracy: 0.5457 - val_loss: 1.6017 - val_accuracy: 0.5531\n",
      "Epoch 28/30\n",
      "1144/1144 [==============================] - 14s 12ms/step - loss: 1.4410 - accuracy: 0.5527 - val_loss: 1.5921 - val_accuracy: 0.5286\n",
      "Epoch 29/30\n",
      "1144/1144 [==============================] - 13s 12ms/step - loss: 1.4324 - accuracy: 0.5551 - val_loss: 1.7111 - val_accuracy: 0.5053\n",
      "Epoch 30/30\n",
      "1144/1144 [==============================] - 13s 11ms/step - loss: 1.4385 - accuracy: 0.5591 - val_loss: 1.5543 - val_accuracy: 0.5438\n"
     ]
    },
    {
     "data": {
      "text/plain": [
       "<keras.callbacks.History at 0x24008885120>"
      ]
     },
     "execution_count": 201,
     "metadata": {},
     "output_type": "execute_result"
    }
   ],
   "source": [
    "model.fit(train_generator, steps_per_epoch=len(train_generator), epochs=epochs, validation_data=validation_generator)"
   ]
  },
  {
   "cell_type": "code",
   "execution_count": 202,
   "id": "33d888e0",
   "metadata": {},
   "outputs": [
    {
     "name": "stdout",
     "output_type": "stream",
     "text": [
      "34/34 [==============================] - 1s 29ms/step - loss: 1.5509 - accuracy: 0.5461\n",
      "Test Loss: 1.550933837890625\n",
      "Test Accuracy: 0.5461323261260986\n"
     ]
    }
   ],
   "source": [
    "loss, accuracy = model.evaluate(X_test, y_test)\n",
    "print(\"Test Loss:\", loss)\n",
    "print(\"Test Accuracy:\", accuracy)"
   ]
  },
  {
   "cell_type": "code",
   "execution_count": 210,
   "id": "08467d8d",
   "metadata": {},
   "outputs": [],
   "source": [
    "model.save(\"ClothingModel.h5\")"
   ]
  },
  {
   "cell_type": "code",
   "execution_count": 211,
   "id": "ac74c4bd",
   "metadata": {},
   "outputs": [],
   "source": [
    "loaded_model = load_model(\"ClothingModel.h5\")"
   ]
  },
  {
   "cell_type": "code",
   "execution_count": 212,
   "id": "4e8af127",
   "metadata": {},
   "outputs": [
    {
     "name": "stdout",
     "output_type": "stream",
     "text": [
      "1/1 [==============================] - 0s 48ms/step\n",
      "Tshirt\n"
     ]
    }
   ],
   "source": [
    "img_path = 'test2.jpg'\n",
    "img = Image.open(img_path)\n",
    "img = img.resize((100, 100))  \n",
    "img_array = np.array(img)\n",
    "img_array = img_array / 255.0\n",
    "img_array = np.expand_dims(img_array, axis=0)\n",
    "predictions = model.predict(img_array)\n",
    "predicted_class = np.argmax(predictions[0])\n",
    "print(categories[predicted_class])"
   ]
  },
  {
   "cell_type": "code",
   "execution_count": 213,
   "id": "c2b00ba5",
   "metadata": {},
   "outputs": [
    {
     "data": {
      "image/png": "[encoded data removed]",
      "text/plain": [
       "<PIL.Image.Image image mode=RGB size=100x100>"
      ]
     },
     "execution_count": 213,
     "metadata": {},
     "output_type": "execute_result"
    }
   ],
   "source": [
    "img"
   ]
  },
  {
   "cell_type": "code",
   "execution_count": 209,
   "id": "26c114fd",
   "metadata": {},
   "outputs": [
    {
     "name": "stderr",
     "output_type": "stream",
     "text": [
      "WARNING:absl:Found untraced functions such as _jit_compiled_convolution_op, _jit_compiled_convolution_op while saving (showing 2 of 2). These functions will not be directly callable after loading.\n"
     ]
    },
    {
     "name": "stdout",
     "output_type": "stream",
     "text": [
      "INFO:tensorflow:Assets written to: C:\\Users\\Vucko\\AppData\\Local\\Temp\\tmp64ziw3e0\\assets\n"
     ]
    },
    {
     "name": "stderr",
     "output_type": "stream",
     "text": [
      "INFO:tensorflow:Assets written to: C:\\Users\\Vucko\\AppData\\Local\\Temp\\tmp64ziw3e0\\assets\n"
     ]
    }
   ],
   "source": [
    "import tensorflow as tf\n",
    "\n",
    "model = tf.keras.models.load_model('ClothingModel.h5')\n",
    "\n",
    "converter = tf.lite.TFLiteConverter.from_keras_model(model)\n",
    "tflite_model = converter.convert()\n",
    "\n",
    "with open('ClothingModel.tflite', 'wb') as f:\n",
    "    f.write(tflite_model)"
   ]
  },
  {
   "cell_type": "code",
   "execution_count": 214,
   "id": "562b79e1",
   "metadata": {},
   "outputs": [
    {
     "name": "stdout",
     "output_type": "stream",
     "text": [
      "34/34 [==============================] - 1s 27ms/step - loss: 1.5371 - accuracy: 0.5815\n",
      "Test Loss: 1.5371321439743042\n",
      "Test Accuracy: 0.5815470814704895\n",
      "34/34 [==============================] - 1s 24ms/step\n",
      "Confusion Matrix:\n",
      "[[  3   0   0   0   0   4   9   0   0   5   0   0   0   0   0]\n",
      " [  0   0   0   0   0   2   2   2   0   8   3   0   0  19   1]\n",
      " [  0   0  12   0   0   1   0   1   0   0   0   0   0   3   0]\n",
      " [  0   0   0  28   0  13   5   2   0   2  11  16   0  15   0]\n",
      " [  0   0   0   0   2   7   8   1   0   5   1   2   0   6   0]\n",
      " [  0   0   1   0   1 101  16   3   0  12   1   0   0  39   0]\n",
      " [  1   0   0   0   2  11  47   1   0   7   2   0   0   9   0]\n",
      " [  0   0   0   0   0   1   2 116   0   2   3   0   0   4   0]\n",
      " [  0   0   0   0   1   3   0   1   0   0   1   1   1  38   0]\n",
      " [  0   0   0   1   0  18   9   0   0  41   0   0   0  14   0]\n",
      " [  0   0   0   5   0   1   0   1   0   1  68   0   0   4   0]\n",
      " [  0   0   0   2   0   4   3   1   0   7   0   7   0  14   2]\n",
      " [  0   0   0   0   0   2   2   0   0   0   1   1   2   8   0]\n",
      " [  0   0   0   0   0   2   0   3   0   2   0   0   0 195   0]\n",
      " [  0   0   0   1   0   0   0   0   0   1   0   1   1  19   2]]\n"
     ]
    }
   ],
   "source": [
    "loss, accuracy = model.evaluate(X_test, y_test)\n",
    "print(\"Test Loss:\", loss)\n",
    "print(\"Test Accuracy:\", accuracy)\n",
    "\n",
    "y_pred = model.predict(X_test)\n",
    "y_pred_labels = np.argmax(y_pred, axis=1)\n",
    "y_true_labels = np.argmax(y_test, axis=1)\n",
    "confusion_mtx = confusion_matrix(y_true_labels, y_pred_labels)\n",
    "\n",
    "print(\"Confusion Matrix:\")\n",
    "print(confusion_mtx)"
   ]
  },
  {
   "cell_type": "code",
   "execution_count": null,
   "id": "861d28da",
   "metadata": {},
   "outputs": [],
   "source": []
  }
 ],
 "metadata": {
  "kernelspec": {
   "display_name": "Python 3 (ipykernel)",
   "language": "python",
   "name": "python3"
  },
  "language_info": {
   "codemirror_mode": {
    "name": "ipython",
    "version": 3
   },
   "file_extension": ".py",
   "mimetype": "text/x-python",
   "name": "python",
   "nbconvert_exporter": "python",
   "pygments_lexer": "ipython3",
   "version": "3.10.9"
  }
 },
 "nbformat": 4,
 "nbformat_minor": 5
}
