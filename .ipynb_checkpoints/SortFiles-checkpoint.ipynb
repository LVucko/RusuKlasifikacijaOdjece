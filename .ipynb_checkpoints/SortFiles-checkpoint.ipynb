{
 "cells": [
  {
   "cell_type": "code",
   "execution_count": 46,
   "id": "985d8039",
   "metadata": {},
   "outputs": [],
   "source": [
    "import pandas as pd\n",
    "import shutil\n",
    "import os"
   ]
  },
  {
   "cell_type": "code",
   "execution_count": 3,
   "id": "ae5e28de",
   "metadata": {},
   "outputs": [],
   "source": [
    "labels = pd.read_csv('images.csv')"
   ]
  },
  {
   "cell_type": "code",
   "execution_count": 4,
   "id": "48c878ec",
   "metadata": {},
   "outputs": [
    {
     "data": {
      "text/html": [
       "<div>\n",
       "<style scoped>\n",
       "    .dataframe tbody tr th:only-of-type {\n",
       "        vertical-align: middle;\n",
       "    }\n",
       "\n",
       "    .dataframe tbody tr th {\n",
       "        vertical-align: top;\n",
       "    }\n",
       "\n",
       "    .dataframe thead th {\n",
       "        text-align: right;\n",
       "    }\n",
       "</style>\n",
       "<table border=\"1\" class=\"dataframe\">\n",
       "  <thead>\n",
       "    <tr style=\"text-align: right;\">\n",
       "      <th></th>\n",
       "      <th>image</th>\n",
       "      <th>sender_id</th>\n",
       "      <th>label</th>\n",
       "      <th>kids</th>\n",
       "    </tr>\n",
       "  </thead>\n",
       "  <tbody>\n",
       "    <tr>\n",
       "      <th>0</th>\n",
       "      <td>4285fab0-751a-4b74-8e9b-43af05deee22</td>\n",
       "      <td>124</td>\n",
       "      <td>Not sure</td>\n",
       "      <td>False</td>\n",
       "    </tr>\n",
       "    <tr>\n",
       "      <th>1</th>\n",
       "      <td>ea7b6656-3f84-4eb3-9099-23e623fc1018</td>\n",
       "      <td>148</td>\n",
       "      <td>T-Shirt</td>\n",
       "      <td>False</td>\n",
       "    </tr>\n",
       "    <tr>\n",
       "      <th>2</th>\n",
       "      <td>00627a3f-0477-401c-95eb-92642cbe078d</td>\n",
       "      <td>94</td>\n",
       "      <td>Not sure</td>\n",
       "      <td>False</td>\n",
       "    </tr>\n",
       "    <tr>\n",
       "      <th>3</th>\n",
       "      <td>ea2ffd4d-9b25-4ca8-9dc2-bd27f1cc59fa</td>\n",
       "      <td>43</td>\n",
       "      <td>T-Shirt</td>\n",
       "      <td>False</td>\n",
       "    </tr>\n",
       "    <tr>\n",
       "      <th>4</th>\n",
       "      <td>3b86d877-2b9e-4c8b-a6a2-1d87513309d0</td>\n",
       "      <td>189</td>\n",
       "      <td>Shoes</td>\n",
       "      <td>False</td>\n",
       "    </tr>\n",
       "  </tbody>\n",
       "</table>\n",
       "</div>"
      ],
      "text/plain": [
       "                                  image  sender_id     label   kids\n",
       "0  4285fab0-751a-4b74-8e9b-43af05deee22        124  Not sure  False\n",
       "1  ea7b6656-3f84-4eb3-9099-23e623fc1018        148   T-Shirt  False\n",
       "2  00627a3f-0477-401c-95eb-92642cbe078d         94  Not sure  False\n",
       "3  ea2ffd4d-9b25-4ca8-9dc2-bd27f1cc59fa         43   T-Shirt  False\n",
       "4  3b86d877-2b9e-4c8b-a6a2-1d87513309d0        189     Shoes  False"
      ]
     },
     "execution_count": 4,
     "metadata": {},
     "output_type": "execute_result"
    }
   ],
   "source": [
    "labels.head()"
   ]
  },
  {
   "cell_type": "code",
   "execution_count": 5,
   "id": "e171da7f",
   "metadata": {},
   "outputs": [
    {
     "data": {
      "text/plain": [
       "T-Shirt       1011\n",
       "Longsleeve     699\n",
       "Pants          692\n",
       "Shoes          431\n",
       "Shirt          378\n",
       "Dress          357\n",
       "Outwear        312\n",
       "Shorts         308\n",
       "Not sure       228\n",
       "Hat            171\n",
       "Skirt          155\n",
       "Polo           120\n",
       "Undershirt     118\n",
       "Blazer         109\n",
       "Hoodie         100\n",
       "Body            69\n",
       "Other           67\n",
       "Top             43\n",
       "Blouse          23\n",
       "Skip            12\n",
       "Name: label, dtype: int64"
      ]
     },
     "execution_count": 5,
     "metadata": {},
     "output_type": "execute_result"
    }
   ],
   "source": [
    "labels['label'].value_counts()"
   ]
  },
  {
   "cell_type": "code",
   "execution_count": 6,
   "id": "f9892026",
   "metadata": {},
   "outputs": [],
   "source": [
    "labels.loc[labels['label']=='Not sure','label'] = 'Not_sure'"
   ]
  },
  {
   "cell_type": "code",
   "execution_count": 7,
   "id": "ba40fe93",
   "metadata": {},
   "outputs": [],
   "source": [
    "labels['image'] = labels['image'] + '.jpg'"
   ]
  },
  {
   "cell_type": "code",
   "execution_count": 12,
   "id": "c2fab8cb",
   "metadata": {},
   "outputs": [],
   "source": [
    "labels['label_cat'] = labels['label']"
   ]
  },
  {
   "cell_type": "code",
   "execution_count": 13,
   "id": "7ee9fc92",
   "metadata": {},
   "outputs": [],
   "source": [
    "label_df = labels[['image', 'label_cat']]"
   ]
  },
  {
   "cell_type": "code",
   "execution_count": 14,
   "id": "580c15d6",
   "metadata": {},
   "outputs": [
    {
     "data": {
      "text/html": [
       "<div>\n",
       "<style scoped>\n",
       "    .dataframe tbody tr th:only-of-type {\n",
       "        vertical-align: middle;\n",
       "    }\n",
       "\n",
       "    .dataframe tbody tr th {\n",
       "        vertical-align: top;\n",
       "    }\n",
       "\n",
       "    .dataframe thead th {\n",
       "        text-align: right;\n",
       "    }\n",
       "</style>\n",
       "<table border=\"1\" class=\"dataframe\">\n",
       "  <thead>\n",
       "    <tr style=\"text-align: right;\">\n",
       "      <th></th>\n",
       "      <th>image</th>\n",
       "      <th>label_cat</th>\n",
       "    </tr>\n",
       "  </thead>\n",
       "  <tbody>\n",
       "    <tr>\n",
       "      <th>0</th>\n",
       "      <td>4285fab0-751a-4b74-8e9b-43af05deee22.jpg</td>\n",
       "      <td>Not_sure</td>\n",
       "    </tr>\n",
       "    <tr>\n",
       "      <th>1</th>\n",
       "      <td>ea7b6656-3f84-4eb3-9099-23e623fc1018.jpg</td>\n",
       "      <td>T-Shirt</td>\n",
       "    </tr>\n",
       "    <tr>\n",
       "      <th>2</th>\n",
       "      <td>00627a3f-0477-401c-95eb-92642cbe078d.jpg</td>\n",
       "      <td>Not_sure</td>\n",
       "    </tr>\n",
       "    <tr>\n",
       "      <th>3</th>\n",
       "      <td>ea2ffd4d-9b25-4ca8-9dc2-bd27f1cc59fa.jpg</td>\n",
       "      <td>T-Shirt</td>\n",
       "    </tr>\n",
       "    <tr>\n",
       "      <th>4</th>\n",
       "      <td>3b86d877-2b9e-4c8b-a6a2-1d87513309d0.jpg</td>\n",
       "      <td>Shoes</td>\n",
       "    </tr>\n",
       "    <tr>\n",
       "      <th>...</th>\n",
       "      <td>...</td>\n",
       "      <td>...</td>\n",
       "    </tr>\n",
       "    <tr>\n",
       "      <th>5398</th>\n",
       "      <td>dfd4079d-967b-4b3e-8574-fbac11b58103.jpg</td>\n",
       "      <td>Shorts</td>\n",
       "    </tr>\n",
       "    <tr>\n",
       "      <th>5399</th>\n",
       "      <td>befa14be-8140-4faf-8061-1039947e329d.jpg</td>\n",
       "      <td>Body</td>\n",
       "    </tr>\n",
       "    <tr>\n",
       "      <th>5400</th>\n",
       "      <td>5379356a-40ee-4890-b416-2336a7d84061.jpg</td>\n",
       "      <td>Shorts</td>\n",
       "    </tr>\n",
       "    <tr>\n",
       "      <th>5401</th>\n",
       "      <td>65507fb8-3456-4c15-b53e-d1b03bf71a59.jpg</td>\n",
       "      <td>Shoes</td>\n",
       "    </tr>\n",
       "    <tr>\n",
       "      <th>5402</th>\n",
       "      <td>32b99302-cec7-4dec-adfa-3d4029674209.jpg</td>\n",
       "      <td>Skirt</td>\n",
       "    </tr>\n",
       "  </tbody>\n",
       "</table>\n",
       "<p>5403 rows × 2 columns</p>\n",
       "</div>"
      ],
      "text/plain": [
       "                                         image label_cat\n",
       "0     4285fab0-751a-4b74-8e9b-43af05deee22.jpg  Not_sure\n",
       "1     ea7b6656-3f84-4eb3-9099-23e623fc1018.jpg   T-Shirt\n",
       "2     00627a3f-0477-401c-95eb-92642cbe078d.jpg  Not_sure\n",
       "3     ea2ffd4d-9b25-4ca8-9dc2-bd27f1cc59fa.jpg   T-Shirt\n",
       "4     3b86d877-2b9e-4c8b-a6a2-1d87513309d0.jpg     Shoes\n",
       "...                                        ...       ...\n",
       "5398  dfd4079d-967b-4b3e-8574-fbac11b58103.jpg    Shorts\n",
       "5399  befa14be-8140-4faf-8061-1039947e329d.jpg      Body\n",
       "5400  5379356a-40ee-4890-b416-2336a7d84061.jpg    Shorts\n",
       "5401  65507fb8-3456-4c15-b53e-d1b03bf71a59.jpg     Shoes\n",
       "5402  32b99302-cec7-4dec-adfa-3d4029674209.jpg     Skirt\n",
       "\n",
       "[5403 rows x 2 columns]"
      ]
     },
     "execution_count": 14,
     "metadata": {},
     "output_type": "execute_result"
    }
   ],
   "source": [
    "label_df"
   ]
  },
  {
   "cell_type": "code",
   "execution_count": 11,
   "id": "579ee8ce",
   "metadata": {},
   "outputs": [],
   "source": [
    "path = '/kaggle/input/clothing-dataset-full'"
   ]
  },
  {
   "cell_type": "code",
   "execution_count": 58,
   "id": "d1f9ca00",
   "metadata": {},
   "outputs": [],
   "source": [
    "source_folder = r\"C:\\Users\\Vucko\\Documents\\Clothing\\images_compressed\\\\\"\n",
    "destination_folder1 = r\"C:\\Users\\Vucko\\Documents\\Clothing\\Tshirt\\\\\"\n",
    "destination_folder2 = r\"C:\\Users\\Vucko\\Documents\\Clothing\\Longsleeve\\\\\"\n",
    "destination_folder3 = r\"C:\\Users\\Vucko\\Documents\\Clothing\\Shoes\\\\\"\n",
    "destination_folder4 = r\"C:\\Users\\Vucko\\Documents\\Clothing\\Shirt\\\\\"\n",
    "destination_folder5 = r\"C:\\Users\\Vucko\\Documents\\Clothing\\Outwear\\\\\"\n",
    "destination_folder6 = r\"C:\\Users\\Vucko\\Documents\\Clothing\\Not_sure\\\\\"\n",
    "destination_folder7 = r\"C:\\Users\\Vucko\\Documents\\Clothing\\Hat\\\\\"\n",
    "destination_folder8 = r\"C:\\Users\\Vucko\\Documents\\Clothing\\Skirt\\\\\"\n",
    "destination_folder9 = r\"C:\\Users\\Vucko\\Documents\\Clothing\\Polo\\\\\"\n",
    "destination_folder10 = r\"C:\\Users\\Vucko\\Documents\\Clothing\\Undershirt\\\\\"\n",
    "destination_folder11 = r\"C:\\Users\\Vucko\\Documents\\Clothing\\Blazer\\\\\"\n",
    "destination_folder12 = r\"C:\\Users\\Vucko\\Documents\\Clothing\\Hoodie\\\\\"\n",
    "destination_folder13 = r\"C:\\Users\\Vucko\\Documents\\Clothing\\Body\\\\\"\n",
    "destination_folder14 = r\"C:\\Users\\Vucko\\Documents\\Clothing\\Other\\\\\"\n",
    "destination_folder15 = r\"C:\\Users\\Vucko\\Documents\\Clothing\\Top\\\\\"\n",
    "destination_folder16 = r\"C:\\Users\\Vucko\\Documents\\Clothing\\Blouse\\\\\"\n",
    "destination_folder17 = r\"C:\\Users\\Vucko\\Documents\\Clothing\\Skip\\\\\""
   ]
  },
  {
   "cell_type": "code",
   "execution_count": 59,
   "id": "9e3987bf",
   "metadata": {},
   "outputs": [],
   "source": [
    "os.makedirs(destination_folder1)\n",
    "os.makedirs(destination_folder2)\n",
    "os.makedirs(destination_folder3)\n",
    "os.makedirs(destination_folder4)\n",
    "os.makedirs(destination_folder5)\n",
    "os.makedirs(destination_folder6)\n",
    "os.makedirs(destination_folder7)\n",
    "os.makedirs(destination_folder8)\n",
    "os.makedirs(destination_folder9)\n",
    "os.makedirs(destination_folder10)\n",
    "os.makedirs(destination_folder11)\n",
    "os.makedirs(destination_folder12)\n",
    "os.makedirs(destination_folder13)\n",
    "os.makedirs(destination_folder14)\n",
    "os.makedirs(destination_folder15)\n",
    "os.makedirs(destination_folder16)\n",
    "os.makedirs(destination_folder17)"
   ]
  },
  {
   "cell_type": "code",
   "execution_count": 60,
   "id": "877c7596",
   "metadata": {},
   "outputs": [],
   "source": [
    "for x in range(5403):\n",
    "    if(label_df.label_cat[x]=='T-Shirt'):\n",
    "        shutil.move(source_folder+label_df.image[x], destination_folder1)\n",
    "    if(label_df.label_cat[x]=='Longsleeve'):\n",
    "        shutil.move(source_folder+label_df.image[x], destination_folder2)\n",
    "    if(label_df.label_cat[x]=='Shoes'):\n",
    "        shutil.move(source_folder+label_df.image[x], destination_folder3)\n",
    "    if(label_df.label_cat[x]=='Shirt'):\n",
    "        shutil.move(source_folder+label_df.image[x], destination_folder4)\n",
    "    if(label_df.label_cat[x]=='Outwear'):\n",
    "        shutil.move(source_folder+label_df.image[x], destination_folder5)\n",
    "    if(label_df.label_cat[x]=='Not_sure'):\n",
    "        shutil.move(source_folder+label_df.image[x], destination_folder6)\n",
    "    if(label_df.label_cat[x]=='Hat'):\n",
    "        shutil.move(source_folder+label_df.image[x], destination_folder7)\n",
    "    if(label_df.label_cat[x]=='Skirt'):\n",
    "        shutil.move(source_folder+label_df.image[x], destination_folder8)\n",
    "    if(label_df.label_cat[x]=='Polo'):\n",
    "        shutil.move(source_folder+label_df.image[x], destination_folder9)\n",
    "    if(label_df.label_cat[x]=='Undershirt'):\n",
    "        shutil.move(source_folder+label_df.image[x], destination_folder10)\n",
    "    if(label_df.label_cat[x]=='Blazer'):\n",
    "        shutil.move(source_folder+label_df.image[x], destination_folder11)\n",
    "    if(label_df.label_cat[x]=='Hoodie'):\n",
    "        shutil.move(source_folder+label_df.image[x], destination_folder12)\n",
    "    if(label_df.label_cat[x]=='Body'):\n",
    "        shutil.move(source_folder+label_df.image[x], destination_folder13)\n",
    "    if(label_df.label_cat[x]=='Other'):\n",
    "        shutil.move(source_folder+label_df.image[x], destination_folder14)\n",
    "    if(label_df.label_cat[x]=='Top'):\n",
    "        shutil.move(source_folder+label_df.image[x], destination_folder15)\n",
    "    if(label_df.label_cat[x]=='Blouse'):\n",
    "        shutil.move(source_folder+label_df.image[x], destination_folder16)\n",
    "    if(label_df.label_cat[x]=='Skip'):\n",
    "        shutil.move(source_folder+label_df.image[x], destination_folder17) "
   ]
  },
  {
   "cell_type": "code",
   "execution_count": null,
   "id": "aa7f63cf",
   "metadata": {},
   "outputs": [],
   "source": []
  }
 ],
 "metadata": {
  "kernelspec": {
   "display_name": "Python 3 (ipykernel)",
   "language": "python",
   "name": "python3"
  },
  "language_info": {
   "codemirror_mode": {
    "name": "ipython",
    "version": 3
   },
   "file_extension": ".py",
   "mimetype": "text/x-python",
   "name": "python",
   "nbconvert_exporter": "python",
   "pygments_lexer": "ipython3",
   "version": "3.9.13"
  }
 },
 "nbformat": 4,
 "nbformat_minor": 5
}
