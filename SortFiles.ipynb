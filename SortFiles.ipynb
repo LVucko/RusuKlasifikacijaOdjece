{
 "cells": [
  {
   "cell_type": "code",
   "execution_count": 62,
   "id": "985d8039",
   "metadata": {},
   "outputs": [],
   "source": [
    "import pandas as pd\n",
    "import shutil\n",
    "import os"
   ]
  },
  {
   "cell_type": "code",
   "execution_count": 63,
   "id": "ae5e28de",
   "metadata": {},
   "outputs": [],
   "source": [
    "labels = pd.read_csv('images.csv')"
   ]
  },
  {
   "cell_type": "code",
   "execution_count": 64,
   "id": "f9892026",
   "metadata": {},
   "outputs": [],
   "source": [
    "labels.loc[labels['label']=='Not sure','label'] = 'Not_sure'\n",
    "labels['image'] = labels['image'] + '.jpg'\n",
    "labels['label_cat'] = labels['label']\n",
    "label_df = labels[['image', 'label_cat']]"
   ]
  },
  {
   "cell_type": "code",
   "execution_count": 66,
   "id": "579ee8ce",
   "metadata": {},
   "outputs": [],
   "source": [
    "path = 'images_original'"
   ]
  },
  {
   "cell_type": "code",
   "execution_count": 68,
   "id": "d1f9ca00",
   "metadata": {},
   "outputs": [],
   "source": [
    "source_folder = r\"C:\\Users\\Vucko\\Documents\\Clothing\\images_original\\\\\"\n",
    "destination_folder1 = r\"C:\\Users\\Vucko\\Documents\\Clothing\\Tshirt\\\\\"\n",
    "destination_folder2 = r\"C:\\Users\\Vucko\\Documents\\Clothing\\Longsleeve\\\\\"\n",
    "destination_folder3 = r\"C:\\Users\\Vucko\\Documents\\Clothing\\Shoes\\\\\"\n",
    "destination_folder4 = r\"C:\\Users\\Vucko\\Documents\\Clothing\\Shirt\\\\\"\n",
    "destination_folder5 = r\"C:\\Users\\Vucko\\Documents\\Clothing\\Outwear\\\\\"\n",
    "destination_folder6 = r\"C:\\Users\\Vucko\\Documents\\Clothing\\Not_sure\\\\\"\n",
    "destination_folder7 = r\"C:\\Users\\Vucko\\Documents\\Clothing\\Hat\\\\\"\n",
    "destination_folder8 = r\"C:\\Users\\Vucko\\Documents\\Clothing\\Skirt\\\\\"\n",
    "destination_folder9 = r\"C:\\Users\\Vucko\\Documents\\Clothing\\Polo\\\\\"\n",
    "destination_folder10 = r\"C:\\Users\\Vucko\\Documents\\Clothing\\Undershirt\\\\\"\n",
    "destination_folder11 = r\"C:\\Users\\Vucko\\Documents\\Clothing\\Blazer\\\\\"\n",
    "destination_folder12 = r\"C:\\Users\\Vucko\\Documents\\Clothing\\Hoodie\\\\\"\n",
    "destination_folder13 = r\"C:\\Users\\Vucko\\Documents\\Clothing\\Body\\\\\"\n",
    "destination_folder14 = r\"C:\\Users\\Vucko\\Documents\\Clothing\\Other\\\\\"\n",
    "destination_folder15 = r\"C:\\Users\\Vucko\\Documents\\Clothing\\Top\\\\\"\n",
    "destination_folder16 = r\"C:\\Users\\Vucko\\Documents\\Clothing\\Blouse\\\\\"\n",
    "destination_folder17 = r\"C:\\Users\\Vucko\\Documents\\Clothing\\Skip\\\\\"\n",
    "destination_folder18 = r\"C:\\Users\\Vucko\\Documents\\Clothing\\Pants\\\\\""
   ]
  },
  {
   "cell_type": "code",
   "execution_count": 70,
   "id": "aa7f63cf",
   "metadata": {},
   "outputs": [],
   "source": [
    "os.makedirs(destination_folder1)\n",
    "os.makedirs(destination_folder2)\n",
    "os.makedirs(destination_folder3)\n",
    "os.makedirs(destination_folder4)\n",
    "os.makedirs(destination_folder5)\n",
    "os.makedirs(destination_folder6)\n",
    "os.makedirs(destination_folder7)\n",
    "os.makedirs(destination_folder8)\n",
    "os.makedirs(destination_folder9)\n",
    "os.makedirs(destination_folder10)\n",
    "os.makedirs(destination_folder11)\n",
    "os.makedirs(destination_folder12)\n",
    "os.makedirs(destination_folder13)\n",
    "os.makedirs(destination_folder14)\n",
    "os.makedirs(destination_folder15)\n",
    "os.makedirs(destination_folder16)\n",
    "os.makedirs(destination_folder17)\n",
    "os.makedirs(destination_folder18)"
   ]
  },
  {
   "cell_type": "code",
   "execution_count": null,
   "id": "b71aefeb",
   "metadata": {},
   "outputs": [],
   "source": [
    "for x in range(5403):\n",
    "    if(label_df.label_cat[x]=='T-Shirt'):\n",
    "        shutil.move(source_folder+label_df.image[x], destination_folder1)\n",
    "    if(label_df.label_cat[x]=='Longsleeve'):\n",
    "        shutil.move(source_folder+label_df.image[x], destination_folder2)\n",
    "    if(label_df.label_cat[x]=='Shoes'):\n",
    "        shutil.move(source_folder+label_df.image[x], destination_folder3)\n",
    "    if(label_df.label_cat[x]=='Shirt'):\n",
    "        shutil.move(source_folder+label_df.image[x], destination_folder4)\n",
    "    if(label_df.label_cat[x]=='Outwear'):\n",
    "        shutil.move(source_folder+label_df.image[x], destination_folder5)\n",
    "    if(label_df.label_cat[x]=='Not_sure'):\n",
    "        shutil.move(source_folder+label_df.image[x], destination_folder6)\n",
    "    if(label_df.label_cat[x]=='Hat'):\n",
    "        shutil.move(source_folder+label_df.image[x], destination_folder7)\n",
    "    if(label_df.label_cat[x]=='Skirt'):\n",
    "        shutil.move(source_folder+label_df.image[x], destination_folder8)\n",
    "    if(label_df.label_cat[x]=='Polo'):\n",
    "        shutil.move(source_folder+label_df.image[x], destination_folder9)\n",
    "    if(label_df.label_cat[x]=='Undershirt'):\n",
    "        shutil.move(source_folder+label_df.image[x], destination_folder10)\n",
    "    if(label_df.label_cat[x]=='Blazer'):\n",
    "        shutil.move(source_folder+label_df.image[x], destination_folder11)\n",
    "    if(label_df.label_cat[x]=='Hoodie'):\n",
    "        shutil.move(source_folder+label_df.image[x], destination_folder12)\n",
    "    if(label_df.label_cat[x]=='Body'):\n",
    "        shutil.move(source_folder+label_df.image[x], destination_folder13)\n",
    "    if(label_df.label_cat[x]=='Other'):\n",
    "        shutil.move(source_folder+label_df.image[x], destination_folder14)\n",
    "    if(label_df.label_cat[x]=='Top'):\n",
    "        shutil.move(source_folder+label_df.image[x], destination_folder15)\n",
    "    if(label_df.label_cat[x]=='Blouse'):\n",
    "        shutil.move(source_folder+label_df.image[x], destination_folder16)\n",
    "    if(label_df.label_cat[x]=='Skip'):\n",
    "        shutil.move(source_folder+label_df.image[x], destination_folder17)\n",
    "    if(label_df.label_cat[x]=='Pants'):\n",
    "        shutil.move(source_folder+label_df.image[x], destination_folder18) "
   ]
  }
 ],
 "metadata": {
  "kernelspec": {
   "display_name": "Python 3 (ipykernel)",
   "language": "python",
   "name": "python3"
  },
  "language_info": {
   "codemirror_mode": {
    "name": "ipython",
    "version": 3
   },
   "file_extension": ".py",
   "mimetype": "text/x-python",
   "name": "python",
   "nbconvert_exporter": "python",
   "pygments_lexer": "ipython3",
   "version": "3.10.9"
  }
 },
 "nbformat": 4,
 "nbformat_minor": 5
}
